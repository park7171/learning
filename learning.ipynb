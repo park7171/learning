{
 "cells": [
  {
   "cell_type": "code",
   "execution_count": null,
   "id": "2c82357f",
   "metadata": {},
   "outputs": [],
   "source": [
    "pip install pandas numpy scikit-learn"
   ]
  },
  {
   "cell_type": "code",
   "execution_count": null,
   "id": "77b4595c",
   "metadata": {},
   "outputs": [],
   "source": [
    "import pandas as pd\n",
    "from sklearn.model_selection import train_test_split\n",
    "from sklearn.ensemble import RandomForestClassifier\n",
    "from sklearn.metrics import accuracy_score, classification_report, confusion_matrix\n",
    "from sklearn.preprocessing import LabelEncoder\n",
    "\n",
    "# 1. 데이터 로드\n",
    "\n",
    "url = 'https://archive.ics.uci.edu/ml/machine-learning-databases/00222/bank.zip'  \n",
    "# 데이터셋을 zip 파일에서 로드합니다.\n",
    "data = pd.read_csv(url, sep=';', header=0)\n",
    "\n",
    "# 2. 데이터 탐색\n",
    "print(data.head())\n",
    "print(data.info())\n",
    "\n",
    "# 3. 데이터 전처리\n",
    "label_encoders = {}\n",
    "for column in data.select_dtypes(include=['object']).columns:\n",
    "    le = LabelEncoder()\n",
    "    data[column] = le.fit_transform(data[column])\n",
    "    label_encoders[column] = le\n",
    "\n",
    "# 4. 특성과 목표 변수 분리\n",
    "X = data.drop('y', axis=1)  # 특징 변수\n",
    "y = data['y']  # 목표 변수\n",
    "\n",
    "# 5. 데이터셋을 훈련 세트와 테스트 세트로 분할\n",
    "X_train, X_test, y_train, y_test = train_test_split(X, y, test_size=0.3, random_state=42)\n",
    "\n",
    "# 6. 랜덤포레스트 모델 훈련\n",
    "rf = RandomForestClassifier(n_estimators=100, random_state=42)\n",
    "rf.fit(X_train, y_train)\n",
    "\n"
   ]
  }
 ],
 "metadata": {
  "kernelspec": {
   "display_name": "Python 3 (ipykernel)",
   "language": "python",
   "name": "python3"
  },
  "language_info": {
   "codemirror_mode": {
    "name": "ipython",
    "version": 3
   },
   "file_extension": ".py",
   "mimetype": "text/x-python",
   "name": "python",
   "nbconvert_exporter": "python",
   "pygments_lexer": "ipython3",
   "version": "3.9.12"
  }
 },
 "nbformat": 4,
 "nbformat_minor": 5
}
